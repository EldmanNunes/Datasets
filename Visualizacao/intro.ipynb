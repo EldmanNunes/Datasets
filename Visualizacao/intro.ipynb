{
  "nbformat": 4,
  "nbformat_minor": 0,
  "metadata": {
    "colab": {
      "name": "intro.ipynb",
      "provenance": [],
      "collapsed_sections": [],
      "include_colab_link": true
    },
    "kernelspec": {
      "name": "python3",
      "display_name": "Python 3"
    },
    "language_info": {
      "name": "python"
    }
  },
  "cells": [
    {
      "cell_type": "markdown",
      "metadata": {
        "id": "view-in-github",
        "colab_type": "text"
      },
      "source": [
        "<a href=\"https://colab.research.google.com/github/Rogerio-mack/Visualizacao-de-Dados-em-Python/blob/main/intro.ipynb\" target=\"_parent\"><img src=\"https://colab.research.google.com/assets/colab-badge.svg\" alt=\"Open In Colab\"/></a>"
      ]
    },
    {
      "cell_type": "markdown",
      "metadata": {
        "id": "KL4z4PmunhQj"
      },
      "source": [
        "# **Prefácio**\n",
        "<hr>"
      ]
    },
    {
      "cell_type": "markdown",
      "metadata": {
        "id": "1P1wtoO0yU21"
      },
      "source": [
        "## A Quem Se Destina Este Livro\n",
        "\n",
        "Este livro se destina a você que está interessado em produzir e compreender visualizações de dados para análise e exploração, ou comunicação de resultados.\n",
        "Ele foi elaborado como um material de apoio para disciplinas de análise de dados (ciência de dados, introdução à estatística dentre outras) e ser empregado total ou parcialmente em cursos de diferentes áreas, das ciências e engenharias às\n",
        "ciências humanas e biológicas. Sendo o principal objetivo didático, adotamos a forma dialógica para o texto e vamos nos referir muitas vezes diretamente ao leitor. \n",
        "\n",
        "Ao longo de texto empregaremos o `Python` e suas principais bibliotecas para produzir visualizações de dados e, \n",
        "embora conhecimentos básicos de programação e `Python` sejam bastante úteis aqui, creio que você poderá apreciar e compreender \n",
        "vários aspectos da visualização de dados mesmo que seu objetivo seja empregar outras ferramentas ou linguagens.  \n",
        "Nossa opção pelo uso de `Python` é pela sua adoção em um grande número de cursos de graduação e pós-graduação, como também pelo seu amplo uso no mercado.\n",
        "\n",
        "## As Formas de Ler Este Livro, Trilha de Programação ou Visualização \n",
        "\n",
        "O texto apresentará a você como criar corretamente visualizações de dados com `Python`. Se você já tem familiaridade com linguagens de programação e com `Python` você poderá executar e explorar diretamente os códigos deste livro fazendo aqui uma Trilha de Programação na sua leitura. Mas se você emprega outras linguagens ou ferramentas, como R ou ferramentas de \n",
        "visualização de dados, ou mesmo se estiver interessado somente nos conceitos de Visualização de Dados e como isso pode ajudar no entendimento dos dados, pode ler este livro sem entrar em detalhes dos códigos e dar atenção apenas às características das visualizações produzidas. Assim, você pode fazer apenas uma Trilha de Visualização na sua leitura, se concentrando apenas nos conceitos e princípios aprensentados sem dar muita atenção ao código. Afinal a visualização de dados envolve princípios que vão muito além da linguagem ou ferramenta empregadas e definir corretamente o tipo de visualização e suas características, bem como compreender seus resultados, é algo talvez até mais importante, e que certamente precede, a codificação e a construção dos gráficos. \n",
        "\n",
        "Mas se você está de fato interessado em produzir visualizações de dados com `Python`, ou outra linguagem, esta introdução certamente será bastante útil. Neste caso, como outros livros de programação, o código é parte integrante do *texto* e é importante que você acompanhe a leitura dos códigos fornecidos com execuções, experimentações e consulta à documentação das api's e pacotes empregados. O texto discute o que é essencial nos códigos mas não discute cada comando e detalhe da codificação. Isso pode ser *lido* diretamente no código dos programas, e opções menos importantes podem ser exploradas pelo leitor na documentação dos pacotes.\n",
        "\n",
        "## Como Está Organizado Este Livro\n",
        "\n",
        "O capítulo de **Introdução** apresenta por quê precisamos produzir Visualizações dos Dados. Nele você vai aprender quais os principais tipos de análise que podemos fazer com a Visualização para obter um melhor entendimento dos dados. O capítulo **Básico: Colab, Python, NumPy e Pandas** traz um resumo dos principais recursos que você precisa conhecer para iniciar a criação de Visualizações de Dados com Python. Você pode saltar, ou apenas fazer uma leitura diagonal desse capítulo caso você já programe em `Python` e conheça os principais recursos de bibliotecas como `Numpy` e `Pandas`. O mesmo pode ser feito se você estiver fazendo apenas a Trilha de Visualização de leitura deste livro. O capítulo seguinte, **Gráficos com Python**, introduz o uso da biblioteca `Matplotlib`, a principal biblioteca de visualização do `Python`. Aqui, mesmo que você esteja fazendo a Trilha de Visualização, é importante que você conheça os recursos do `Matplotlib` que são comuns a muitas outras bibliotecas e ferramentas de visualização de dados.\n",
        "\n",
        "Os 4 capítulos seguintes apresentam a Visualização de Dados distribuída por quatro eixos principais de análise dos dados, **Evolução**, **Distribuição**, **Quantidades e Proporcões** e **Relações**. Eles constituem a parte central deste texto.\n",
        "\n",
        "Ao final o capítulo **Boas Práticas** traz algumas boas práticas para a produção correta de Visualizações dos Dados, e um apêndice resume alguns recursos úteis empregados neste livro.\n",
        "\n",
        "Sendo um texto de introdutório não tratamos aqui muitos aspectos importantes da visualização de dados, e nem mesmo todos os tipos de gráficos ou recursos dos pacotes. Em geral não obordamos recursos avançados ou de aplicação muito específica. É o caso, por exemplo, de gráficos dinâmicos, gráficos 3D, uso de mapas, produção de animações, infográficos ou mesmo a narrativa de histórias dos dados (*storytelling*), que o leitor poderá buscar em um segundo momento e eventualmente nos materiais complementares deste livro.\n",
        "\n",
        "\n",
        "## Códigos Fonte e Dados\n",
        "\n",
        "Todos os códigos deste livro foram desenvolvidos e executados em `Python` no ambiente Google Colab e podem ser obtidos em https://github.com/Rogerio-mack/Visualizacao-de-Dados-em-Python. Lá você também poderá encontrar atualizações do código, do texto e materiais complementares, bem como as bases de dados empregadas. Todos os exemplos empregam bases públicas que foram, quando necessário, adaptadas. Dentro do possível, procuramos empregar dados de diferentes áreas e tornar os exemplos mais ilustrativos de casos reais de análise.\n"
      ]
    }
  ]
}